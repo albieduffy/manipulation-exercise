{
 "cells": [
  {
   "cell_type": "code",
   "execution_count": 55,
   "metadata": {},
   "outputs": [],
   "source": [
    "import requests\n",
    "import json\n",
    "import numpy as np\n",
    "import pandas as pd\n",
    "import csv\n",
    "import matplotlib.pyplot as plt\n",
    "import seaborn as sns"
   ]
  },
  {
   "cell_type": "code",
   "execution_count": 32,
   "metadata": {},
   "outputs": [],
   "source": [
    "# response = requests.get('https://api.openbrewerydb.org/breweries')\n",
    "# breweries = json.loads(response.text)\n",
    "# df = pd.DataFrame(breweries)"
   ]
  },
  {
   "cell_type": "code",
   "execution_count": 49,
   "metadata": {},
   "outputs": [
    {
     "data": {
      "text/html": [
       "<div>\n",
       "<style scoped>\n",
       "    .dataframe tbody tr th:only-of-type {\n",
       "        vertical-align: middle;\n",
       "    }\n",
       "\n",
       "    .dataframe tbody tr th {\n",
       "        vertical-align: top;\n",
       "    }\n",
       "\n",
       "    .dataframe thead th {\n",
       "        text-align: right;\n",
       "    }\n",
       "</style>\n",
       "<table border=\"1\" class=\"dataframe\">\n",
       "  <thead>\n",
       "    <tr style=\"text-align: right;\">\n",
       "      <th></th>\n",
       "      <th>id</th>\n",
       "      <th>name</th>\n",
       "      <th>brewery_type</th>\n",
       "      <th>city</th>\n",
       "      <th>state</th>\n",
       "      <th>postal_code</th>\n",
       "      <th>created_at</th>\n",
       "      <th>updated_at</th>\n",
       "      <th>country</th>\n",
       "    </tr>\n",
       "  </thead>\n",
       "  <tbody>\n",
       "    <tr>\n",
       "      <th>0</th>\n",
       "      <td>siluria-brewing-company</td>\n",
       "      <td>Siluria Brewing Company</td>\n",
       "      <td>planning</td>\n",
       "      <td>Alabaster</td>\n",
       "      <td>Alabama</td>\n",
       "      <td>35007-8501</td>\n",
       "      <td>2018-07-24 01:32:47.74914</td>\n",
       "      <td>2018-08-23 23:20:26.994711</td>\n",
       "      <td>United States</td>\n",
       "    </tr>\n",
       "    <tr>\n",
       "      <th>1</th>\n",
       "      <td>cheaha-brewing-co</td>\n",
       "      <td>Cheaha Brewing Co</td>\n",
       "      <td>brewpub</td>\n",
       "      <td>Anniston</td>\n",
       "      <td>Alabama</td>\n",
       "      <td>36201-4526</td>\n",
       "      <td>2018-07-24 01:32:47.439657</td>\n",
       "      <td>2018-08-23 23:20:08.838388</td>\n",
       "      <td>United States</td>\n",
       "    </tr>\n",
       "    <tr>\n",
       "      <th>2</th>\n",
       "      <td>avondale-brewing-co</td>\n",
       "      <td>Avondale Brewing Co</td>\n",
       "      <td>micro</td>\n",
       "      <td>Birmingham</td>\n",
       "      <td>Alabama</td>\n",
       "      <td>35222-1932</td>\n",
       "      <td>2018-07-24 01:32:47.255559</td>\n",
       "      <td>2018-08-23 23:19:57.82527</td>\n",
       "      <td>United States</td>\n",
       "    </tr>\n",
       "    <tr>\n",
       "      <th>3</th>\n",
       "      <td>trim-tab-brewing</td>\n",
       "      <td>Trim Tab Brewing</td>\n",
       "      <td>micro</td>\n",
       "      <td>Birmingham</td>\n",
       "      <td>Alabama</td>\n",
       "      <td>35233-3401</td>\n",
       "      <td>2018-07-24 01:32:47.815458</td>\n",
       "      <td>2018-08-23 23:20:31.42326</td>\n",
       "      <td>United States</td>\n",
       "    </tr>\n",
       "    <tr>\n",
       "      <th>4</th>\n",
       "      <td>cahaba-brewing-co</td>\n",
       "      <td>Cahaba Brewing Co</td>\n",
       "      <td>micro</td>\n",
       "      <td>Birmingham</td>\n",
       "      <td>Alabama</td>\n",
       "      <td>35222-2911</td>\n",
       "      <td>2018-07-24 01:32:47.400092</td>\n",
       "      <td>2018-08-11 21:35:43.648666</td>\n",
       "      <td>United States</td>\n",
       "    </tr>\n",
       "  </tbody>\n",
       "</table>\n",
       "</div>"
      ],
      "text/plain": [
       "                        id                     name brewery_type        city  \\\n",
       "0  siluria-brewing-company  Siluria Brewing Company     planning   Alabaster   \n",
       "1        cheaha-brewing-co        Cheaha Brewing Co      brewpub    Anniston   \n",
       "2      avondale-brewing-co      Avondale Brewing Co        micro  Birmingham   \n",
       "3         trim-tab-brewing         Trim Tab Brewing        micro  Birmingham   \n",
       "4        cahaba-brewing-co        Cahaba Brewing Co        micro  Birmingham   \n",
       "\n",
       "     state postal_code                  created_at  \\\n",
       "0  Alabama  35007-8501   2018-07-24 01:32:47.74914   \n",
       "1  Alabama  36201-4526  2018-07-24 01:32:47.439657   \n",
       "2  Alabama  35222-1932  2018-07-24 01:32:47.255559   \n",
       "3  Alabama  35233-3401  2018-07-24 01:32:47.815458   \n",
       "4  Alabama  35222-2911  2018-07-24 01:32:47.400092   \n",
       "\n",
       "                   updated_at        country  \n",
       "0  2018-08-23 23:20:26.994711  United States  \n",
       "1  2018-08-23 23:20:08.838388  United States  \n",
       "2   2018-08-23 23:19:57.82527  United States  \n",
       "3   2018-08-23 23:20:31.42326  United States  \n",
       "4  2018-08-11 21:35:43.648666  United States  "
      ]
     },
     "execution_count": 49,
     "metadata": {},
     "output_type": "execute_result"
    }
   ],
   "source": [
    "breweries = pd.read_csv('breweries.csv')\n",
    "breweries.dropna(axis=1,inplace=True)\n",
    "breweries.head()"
   ]
  },
  {
   "cell_type": "code",
   "execution_count": 66,
   "metadata": {},
   "outputs": [
    {
     "ename": "AttributeError",
     "evalue": "'AxesSubplot' object has no attribute 'savefig'",
     "output_type": "error",
     "traceback": [
      "\u001b[0;31m---------------------------------------------------------------------------\u001b[0m",
      "\u001b[0;31mAttributeError\u001b[0m                            Traceback (most recent call last)",
      "\u001b[0;32m<ipython-input-66-cdb3af1d7c0c>\u001b[0m in \u001b[0;36m<module>\u001b[0;34m\u001b[0m\n\u001b[0;32m----> 1\u001b[0;31m \u001b[0msns\u001b[0m\u001b[0;34m.\u001b[0m\u001b[0mcountplot\u001b[0m\u001b[0;34m(\u001b[0m\u001b[0my\u001b[0m\u001b[0;34m=\u001b[0m\u001b[0;34m'state'\u001b[0m\u001b[0;34m,\u001b[0m \u001b[0mdata\u001b[0m\u001b[0;34m=\u001b[0m\u001b[0mbreweries\u001b[0m\u001b[0;34m)\u001b[0m\u001b[0;34m.\u001b[0m\u001b[0msavefig\u001b[0m\u001b[0;34m(\u001b[0m\u001b[0;34m'by_state.png'\u001b[0m\u001b[0;34m)\u001b[0m\u001b[0;34m\u001b[0m\u001b[0;34m\u001b[0m\u001b[0m\n\u001b[0m",
      "\u001b[0;31mAttributeError\u001b[0m: 'AxesSubplot' object has no attribute 'savefig'"
     ]
    },
    {
     "data": {
      "image/png": "[encoded data removed]",
      "text/plain": [
       "<Figure size 432x288 with 1 Axes>"
      ]
     },
     "metadata": {
      "needs_background": "light"
     },
     "output_type": "display_data"
    }
   ],
   "source": [
    "sns.countplot(y='state', data=breweries)"
   ]
  },
  {
   "cell_type": "code",
   "execution_count": 69,
   "metadata": {},
   "outputs": [
    {
     "ename": "AttributeError",
     "evalue": "'AxesSubplot' object has no attribute 'savefig'",
     "output_type": "error",
     "traceback": [
      "\u001b[0;31m---------------------------------------------------------------------------\u001b[0m",
      "\u001b[0;31mAttributeError\u001b[0m                            Traceback (most recent call last)",
      "\u001b[0;32m<ipython-input-69-f8de40ff697d>\u001b[0m in \u001b[0;36m<module>\u001b[0;34m\u001b[0m\n\u001b[1;32m      1\u001b[0m \u001b[0mplot\u001b[0m \u001b[0;34m=\u001b[0m \u001b[0msns\u001b[0m\u001b[0;34m.\u001b[0m\u001b[0mcountplot\u001b[0m\u001b[0;34m(\u001b[0m\u001b[0mx\u001b[0m\u001b[0;34m=\u001b[0m\u001b[0;34m'brewery_type'\u001b[0m\u001b[0;34m,\u001b[0m \u001b[0mdata\u001b[0m\u001b[0;34m=\u001b[0m\u001b[0mbreweries\u001b[0m\u001b[0;34m)\u001b[0m\u001b[0;34m\u001b[0m\u001b[0;34m\u001b[0m\u001b[0m\n\u001b[0;32m----> 2\u001b[0;31m \u001b[0mplot\u001b[0m\u001b[0;34m.\u001b[0m\u001b[0msavefig\u001b[0m\u001b[0;34m(\u001b[0m\u001b[0;34m'sample.png'\u001b[0m\u001b[0;34m)\u001b[0m\u001b[0;34m\u001b[0m\u001b[0;34m\u001b[0m\u001b[0m\n\u001b[0m",
      "\u001b[0;31mAttributeError\u001b[0m: 'AxesSubplot' object has no attribute 'savefig'"
     ]
    },
    {
     "data": {
      "image/png": "[encoded data removed]",
      "text/plain": [
       "<Figure size 432x288 with 1 Axes>"
      ]
     },
     "metadata": {
      "needs_background": "light"
     },
     "output_type": "display_data"
    }
   ],
   "source": [
    "plot = sns.countplot(x='brewery_type', data=breweries)\n",
    "plot.savefig('sample.png')"
   ]
  },
  {
   "cell_type": "code",
   "execution_count": null,
   "metadata": {},
   "outputs": [],
   "source": []
  }
 ],
 "metadata": {
  "kernelspec": {
   "display_name": "Python 3",
   "language": "python",
   "name": "python3"
  },
  "language_info": {
   "codemirror_mode": {
    "name": "ipython",
    "version": 3
   },
   "file_extension": ".py",
   "mimetype": "text/x-python",
   "name": "python",
   "nbconvert_exporter": "python",
   "pygments_lexer": "ipython3",
   "version": "3.8.5"
  }
 },
 "nbformat": 4,
 "nbformat_minor": 4
}
